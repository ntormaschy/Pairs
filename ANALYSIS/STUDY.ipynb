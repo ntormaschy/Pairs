{
 "cells": [
  {
   "cell_type": "code",
   "execution_count": 14,
   "metadata": {},
   "outputs": [],
   "source": [
    "import sys\n",
    "import pandas as pd\n",
    "from datetime import date\n",
    "import warnings\n",
    "\n",
    "sys.path.insert(0, '..\\DATA')\n",
    "\n",
    "import INIT_STORE as I_S"
   ]
  },
  {
   "cell_type": "code",
   "execution_count": 25,
   "metadata": {},
   "outputs": [
    {
     "name": "stdout",
     "output_type": "stream",
     "text": [
      "<bound method NDFrame.head of                            time_GBP_AUD  volume_GBP_AUD  bid_c_GBP_AUD  \\\n",
      "2021-09-22 11:00:00 2021-09-22 11:00:00            4953        1.88129   \n",
      "2021-09-22 12:00:00 2021-09-22 12:00:00            7097        1.88037   \n",
      "2021-09-22 13:00:00 2021-09-22 13:00:00           10941        1.88127   \n",
      "2021-09-22 14:00:00 2021-09-22 14:00:00           11070        1.87986   \n",
      "2021-09-22 15:00:00 2021-09-22 15:00:00            9265        1.88190   \n",
      "...                                 ...             ...            ...   \n",
      "2022-07-12 18:00:00 2022-07-12 18:00:00            4339        1.75852   \n",
      "2022-07-12 19:00:00 2022-07-12 19:00:00            6327        1.75843   \n",
      "2022-07-12 20:00:00 2022-07-12 20:00:00            2390        1.75889   \n",
      "2022-07-12 21:00:00 2022-07-12 21:00:00             355        1.75859   \n",
      "2022-07-12 22:00:00 2022-07-12 22:00:00            2052        1.75904   \n",
      "\n",
      "                           time_EUR_USD  volume_EUR_USD  bid_c_EUR_USD  \n",
      "2021-09-22 11:00:00 2021-09-22 11:00:00            2346        1.17257  \n",
      "2021-09-22 12:00:00 2021-09-22 12:00:00            4008        1.17291  \n",
      "2021-09-22 13:00:00 2021-09-22 13:00:00            5269        1.17304  \n",
      "2021-09-22 14:00:00 2021-09-22 14:00:00            6279        1.17343  \n",
      "2021-09-22 15:00:00 2021-09-22 15:00:00            4247        1.17376  \n",
      "...                                 ...             ...            ...  \n",
      "2022-07-12 18:00:00 2022-07-12 18:00:00            3001        1.00444  \n",
      "2022-07-12 19:00:00 2022-07-12 19:00:00            3759        1.00318  \n",
      "2022-07-12 20:00:00 2022-07-12 20:00:00            1122        1.00365  \n",
      "2022-07-12 21:00:00 2022-07-12 21:00:00             332        1.00342  \n",
      "2022-07-12 22:00:00 2022-07-12 22:00:00            1242        1.00303  \n",
      "\n",
      "[5025 rows x 6 columns]>\n"
     ]
    }
   ],
   "source": [
    "#load data \n",
    "warnings.simplefilter(action = 'ignore', category = UserWarning)\n",
    "\n",
    "cnxn = I_S.connect_cloud_sql('PAIRS', I_S.GCLOUD_PWD, I_S.GCLOUD_IP,\n",
    "    I_S.SSL_CA_PATH, I_S.SSL_CERT_PATH, I_S.SSL_KEY_PATH)\n",
    "pairs = I_S.get_stored_pairs()\n",
    "\n",
    "is_first = True\n",
    "for pair in pairs:\n",
    "    sql = \"\"\"\n",
    "    SELECT \n",
    "        time, volume, bid_c\n",
    "    FROM {}\n",
    "    \"\"\".format(pair)\n",
    "    df_mid = pd.read_sql(sql, cnxn) \n",
    "    df_mid.columns = ['{}{}'.format(c, '_{}'.format(pair))\n",
    "             for c in df_mid.columns]\n",
    "\n",
    "    df_mid.set_index(pd.to_datetime(df_mid[df_mid.columns[0]]), inplace=True)\n",
    "\n",
    "    if not is_first:\n",
    "        df = merge=pd.merge(df,df_mid, how='inner', left_index=True, right_index=True)\n",
    "    else:\n",
    "        df = df_mid\n",
    "        is_first = False\n",
    "\n",
    "cnxn.close()\n",
    "print(df.head)\n",
    "df.to_csv(\"LOCAL_COPY_PAIRS_\".format(str(date.today())))"
   ]
  }
 ],
 "metadata": {
  "kernelspec": {
   "display_name": "Python 3.8.10 ('ENV': venv)",
   "language": "python",
   "name": "python3"
  },
  "language_info": {
   "codemirror_mode": {
    "name": "ipython",
    "version": 3
   },
   "file_extension": ".py",
   "mimetype": "text/x-python",
   "name": "python",
   "nbconvert_exporter": "python",
   "pygments_lexer": "ipython3",
   "version": "3.8.10"
  },
  "orig_nbformat": 4,
  "vscode": {
   "interpreter": {
    "hash": "40350b01d8c8c807095cbc5c12d5ff9f348b62018859fa4c638aa5a763a82d7e"
   }
  }
 },
 "nbformat": 4,
 "nbformat_minor": 2
}
